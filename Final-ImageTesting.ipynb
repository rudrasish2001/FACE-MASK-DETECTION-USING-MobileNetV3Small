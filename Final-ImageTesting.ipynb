{
 "cells": [
  {
   "cell_type": "code",
   "execution_count": 1,
   "id": "746912c5",
   "metadata": {},
   "outputs": [],
   "source": [
    "from tensorflow.keras.applications.mobilenet_v3 import preprocess_input\n",
    "from tensorflow.keras.models import load_model\n",
    "from tensorflow.keras.preprocessing.image import img_to_array\n",
    "import numpy as np\n",
    "import os\n",
    "import cv2"
   ]
  },
  {
   "cell_type": "code",
   "execution_count": 2,
   "id": "a776d420",
   "metadata": {},
   "outputs": [],
   "source": [
    "prototxtPath=os.path.sep.join([r'C:\\Users\\KIIT\\Videos\\Face_Mask_Detection\\face_detector','deploy.prototxt'])\n",
    "weightsPath=os.path.sep.join([r'C:\\Users\\KIIT\\Videos\\Face_Mask_Detection\\face_detector','res10_300x300_ssd_iter_140000.caffemodel'])\n"
   ]
  },
  {
   "cell_type": "code",
   "execution_count": 3,
   "id": "3fb79889",
   "metadata": {},
   "outputs": [],
   "source": [
    "imagedetector=cv2.dnn.readNet(prototxtPath,weightsPath)"
   ]
  },
  {
   "cell_type": "code",
   "execution_count": 11,
   "id": "7b6283a7",
   "metadata": {},
   "outputs": [],
   "source": [
    "model=load_model(r'C:\\Users\\KIIT\\Videos\\Face_Mask_Detection\\mask_detector.model')"
   ]
  },
  {
   "cell_type": "code",
   "execution_count": 12,
   "id": "cb5e0517",
   "metadata": {},
   "outputs": [
    {
     "data": {
      "text/plain": [
       "array([[[123, 170, 168],\n",
       "        [ 81, 123, 122],\n",
       "        [161, 191, 192],\n",
       "        ...,\n",
       "        [210, 211, 207],\n",
       "        [211, 208, 204],\n",
       "        [208, 205, 201]],\n",
       "\n",
       "       [[123, 170, 168],\n",
       "        [ 81, 123, 122],\n",
       "        [161, 191, 192],\n",
       "        ...,\n",
       "        [212, 211, 207],\n",
       "        [211, 208, 204],\n",
       "        [209, 206, 202]],\n",
       "\n",
       "       [[123, 170, 168],\n",
       "        [ 81, 123, 122],\n",
       "        [161, 191, 192],\n",
       "        ...,\n",
       "        [215, 212, 207],\n",
       "        [212, 209, 204],\n",
       "        [211, 207, 202]],\n",
       "\n",
       "       ...,\n",
       "\n",
       "       [[ 21,  14,  57],\n",
       "        [ 20,  16,  52],\n",
       "        [ 45,  42,  68],\n",
       "        ...,\n",
       "        [ 35,  20,  11],\n",
       "        [ 43,  27,  20],\n",
       "        [ 36,  20,  14]],\n",
       "\n",
       "       [[ 43,  36,  79],\n",
       "        [ 14,  10,  46],\n",
       "        [ 48,  45,  71],\n",
       "        ...,\n",
       "        [ 35,  20,  11],\n",
       "        [ 43,  27,  20],\n",
       "        [ 36,  20,  14]],\n",
       "\n",
       "       [[ 94,  87, 130],\n",
       "        [ 42,  38,  74],\n",
       "        [ 39,  36,  62],\n",
       "        ...,\n",
       "        [ 35,  20,  11],\n",
       "        [ 43,  27,  20],\n",
       "        [ 36,  20,  14]]], dtype=uint8)"
      ]
     },
     "execution_count": 12,
     "metadata": {},
     "output_type": "execute_result"
    }
   ],
   "source": [
    "image=cv2.imread(r'C:\\Users\\KIIT\\Videos\\Face_Mask_Detection\\example\\public.jpg')\n",
    "image"
   ]
  },
  {
   "cell_type": "code",
   "execution_count": 13,
   "id": "af42fd15",
   "metadata": {},
   "outputs": [
    {
     "data": {
      "text/plain": [
       "(180, 280)"
      ]
     },
     "execution_count": 13,
     "metadata": {},
     "output_type": "execute_result"
    }
   ],
   "source": [
    "(h,w)=image.shape[:2]\n",
    "(h,w)"
   ]
  },
  {
   "cell_type": "code",
   "execution_count": 14,
   "id": "fe8ca5f8",
   "metadata": {},
   "outputs": [
    {
     "data": {
      "text/plain": [
       "array([[[[  19.,  -19.,   44., ...,  106.,  107.,  104.],\n",
       "         [  19.,  -19.,   44., ...,  107.,  107.,  104.],\n",
       "         [  19.,  -19.,   44., ...,  108.,  107.,  105.],\n",
       "         ...,\n",
       "         [ -61.,  -87.,  -62., ...,  -68.,  -62.,  -68.],\n",
       "         [ -31.,  -69.,  -64., ...,  -68.,  -62.,  -68.],\n",
       "         [ -10.,  -57.,  -65., ...,  -68.,  -62.,  -68.]],\n",
       "\n",
       "        [[  -7.,  -49.,    2., ...,   33.,   31.,   28.],\n",
       "         [  -7.,  -49.,    3., ...,   33.,   31.,   28.],\n",
       "         [  -7.,  -49.,    3., ...,   34.,   31.,   29.],\n",
       "         ...,\n",
       "         [-141., -164., -138., ..., -156., -151., -157.],\n",
       "         [-111., -146., -140., ..., -156., -151., -157.],\n",
       "         [ -90., -134., -141., ..., -156., -151., -157.]],\n",
       "\n",
       "        [[  45.,    4.,   57., ...,   83.,   81.,   78.],\n",
       "         [  45.,    3.,   57., ...,   83.,   80.,   78.],\n",
       "         [  45.,    4.,   57., ...,   84.,   81.,   79.],\n",
       "         ...,\n",
       "         [ -44.,  -74.,  -56., ..., -111., -104., -109.],\n",
       "         [ -13.,  -56.,  -58., ..., -111., -104., -109.],\n",
       "         [   7.,  -44.,  -59., ..., -111., -104., -109.]]]], dtype=float32)"
      ]
     },
     "execution_count": 14,
     "metadata": {},
     "output_type": "execute_result"
    }
   ],
   "source": [
    "blob=cv2.dnn.blobFromImage(image,1.0,(300,300),(104.0,177.0,123.0))\n",
    "blob"
   ]
  },
  {
   "cell_type": "code",
   "execution_count": 15,
   "id": "4f42a1f6",
   "metadata": {},
   "outputs": [
    {
     "data": {
      "text/plain": [
       "(1, 3, 300, 300)"
      ]
     },
     "execution_count": 15,
     "metadata": {},
     "output_type": "execute_result"
    }
   ],
   "source": [
    "blob.shape"
   ]
  },
  {
   "cell_type": "code",
   "execution_count": 16,
   "id": "3044a1bc",
   "metadata": {},
   "outputs": [
    {
     "data": {
      "text/plain": [
       "array([[[[0.        , 1.        , 0.9981135 , ..., 0.58194125,\n",
       "          0.427413  , 0.88312006],\n",
       "         [0.        , 1.        , 0.9930099 , ..., 0.35360545,\n",
       "          0.8363572 , 0.6033377 ],\n",
       "         [0.        , 1.        , 0.9928404 , ..., 0.1538603 ,\n",
       "          0.26527372, 0.31458342],\n",
       "         ...,\n",
       "         [0.        , 0.        , 0.        , ..., 0.        ,\n",
       "          0.        , 0.        ],\n",
       "         [0.        , 0.        , 0.        , ..., 0.        ,\n",
       "          0.        , 0.        ],\n",
       "         [0.        , 0.        , 0.        , ..., 0.        ,\n",
       "          0.        , 0.        ]]]], dtype=float32)"
      ]
     },
     "execution_count": 16,
     "metadata": {},
     "output_type": "execute_result"
    }
   ],
   "source": [
    "imagedetector.setInput(blob)\n",
    "detections=imagedetector.forward()\n",
    "detections"
   ]
  },
  {
   "cell_type": "code",
   "execution_count": 17,
   "id": "6f332da3",
   "metadata": {},
   "outputs": [],
   "source": [
    "for i in range(0,detections.shape[2]):\n",
    "    confidence=detections[0,0,i,2]\n",
    "    \n",
    "    \n",
    "    if confidence>0.5:\n",
    "        box=detections[0,0,i,3:7]*np.array([w,h,w,h])\n",
    "        (startX,startY,endX,endY)=box.astype('int')\n",
    "        (startX,startY)=(max(0,startX),max(0,startY))\n",
    "        (endX,endY)=(min(w-1,endX),min(h-1,endY))\n",
    "        \n",
    "        face=image[startY:endY , startX:endX]\n",
    "        face=cv2.cvtColor(face,cv2.COLOR_BGR2RGB)\n",
    "        face=cv2.resize(face,(224,224))\n",
    "        face=img_to_array(face)\n",
    "        face=preprocess_input(face)\n",
    "        face=np.expand_dims(face,axis=0)\n",
    "        \n",
    "        (mask,withoutMask)=model.predict(face)[0]\n",
    "        \n",
    "        label='Mask' if mask>withoutMask else 'No Mask'\n",
    "        color=(0,255,0) if label=='Mask' else(0,0,255)\n",
    "        \n",
    "        label=\"{}: {:.2f}%\".format(label,max(mask,withoutMask)*100)\n",
    "        \n",
    "        cv2.putText(image,label,(startX,startY-10),cv2.FONT_HERSHEY_SIMPLEX,0.45,color,2)\n",
    "        cv2.rectangle(image,(startX,startY),(endX,endY),color,2)\n",
    "cv2.imshow(\"OutPut\",image)\n",
    "cv2.waitKey(0)\n",
    "cv2.destroyAllWindows()"
   ]
  },
  {
   "cell_type": "code",
   "execution_count": null,
   "id": "f6cbb304",
   "metadata": {},
   "outputs": [],
   "source": []
  }
 ],
 "metadata": {
  "kernelspec": {
   "display_name": "Python 3 (ipykernel)",
   "language": "python",
   "name": "python3"
  },
  "language_info": {
   "codemirror_mode": {
    "name": "ipython",
    "version": 3
   },
   "file_extension": ".py",
   "mimetype": "text/x-python",
   "name": "python",
   "nbconvert_exporter": "python",
   "pygments_lexer": "ipython3",
   "version": "3.9.7"
  }
 },
 "nbformat": 4,
 "nbformat_minor": 5
}
