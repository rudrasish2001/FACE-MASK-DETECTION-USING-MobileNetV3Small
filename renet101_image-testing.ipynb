{
 "cells": [
  {
   "cell_type": "code",
   "execution_count": 1,
   "id": "c260340d",
   "metadata": {},
   "outputs": [],
   "source": [
    "from tensorflow.keras.applications.mobilenet_v2 import preprocess_input\n",
    "from tensorflow.keras.models import load_model\n",
    "from tensorflow.keras.preprocessing.image import img_to_array\n",
    "import numpy as np\n",
    "import os\n",
    "import cv2"
   ]
  },
  {
   "cell_type": "code",
   "execution_count": 2,
   "id": "90f1eb5a",
   "metadata": {},
   "outputs": [],
   "source": [
    "prototxtPath=os.path.sep.join([r'C:\\Users\\KIIT\\Videos\\Face_Mask_Detection\\face_detector','deploy.prototxt'])\n",
    "weightsPath=os.path.sep.join([r'C:\\Users\\KIIT\\Videos\\Face_Mask_Detection\\face_detector','res10_300x300_ssd_iter_140000.caffemodel'])"
   ]
  },
  {
   "cell_type": "code",
   "execution_count": 3,
   "id": "4ddbe7bd",
   "metadata": {},
   "outputs": [],
   "source": [
    "net=cv2.dnn.readNet(prototxtPath,weightsPath)"
   ]
  },
  {
   "cell_type": "code",
   "execution_count": 4,
   "id": "94d1a940",
   "metadata": {},
   "outputs": [],
   "source": [
    "model=load_model(r'C:\\Users\\KIIT\\Videos\\Face_Mask_Detection\\resnet50.model')"
   ]
  },
  {
   "cell_type": "code",
   "execution_count": 5,
   "id": "5b5e71ac",
   "metadata": {},
   "outputs": [],
   "source": [
    "image=cv2.imread(r'C:\\Users\\KIIT\\Videos\\Face_Mask_Detection\\example\\old.jpg')"
   ]
  },
  {
   "cell_type": "code",
   "execution_count": 6,
   "id": "41bca9d3",
   "metadata": {},
   "outputs": [
    {
     "data": {
      "text/plain": [
       "array([[[238, 240, 240],\n",
       "        [253, 255, 255],\n",
       "        [241, 243, 243],\n",
       "        ...,\n",
       "        [254, 251, 253],\n",
       "        [252, 251, 255],\n",
       "        [252, 251, 255]],\n",
       "\n",
       "       [[251, 253, 253],\n",
       "        [253, 255, 255],\n",
       "        [253, 255, 255],\n",
       "        ...,\n",
       "        [254, 251, 253],\n",
       "        [252, 251, 255],\n",
       "        [252, 251, 255]],\n",
       "\n",
       "       [[238, 240, 240],\n",
       "        [253, 255, 255],\n",
       "        [251, 253, 253],\n",
       "        ...,\n",
       "        [254, 252, 252],\n",
       "        [252, 251, 255],\n",
       "        [252, 251, 255]],\n",
       "\n",
       "       ...,\n",
       "\n",
       "       [[250, 242, 243],\n",
       "        [255, 251, 252],\n",
       "        [250, 255, 255],\n",
       "        ...,\n",
       "        [246, 250, 251],\n",
       "        [250, 250, 250],\n",
       "        [250, 250, 250]],\n",
       "\n",
       "       [[255, 248, 249],\n",
       "        [255, 247, 247],\n",
       "        [255, 253, 253],\n",
       "        ...,\n",
       "        [245, 250, 249],\n",
       "        [249, 249, 249],\n",
       "        [249, 249, 249]],\n",
       "\n",
       "       [[255, 253, 252],\n",
       "        [255, 253, 254],\n",
       "        [255, 248, 248],\n",
       "        ...,\n",
       "        [246, 249, 247],\n",
       "        [248, 248, 248],\n",
       "        [248, 248, 248]]], dtype=uint8)"
      ]
     },
     "execution_count": 6,
     "metadata": {},
     "output_type": "execute_result"
    }
   ],
   "source": [
    "image"
   ]
  },
  {
   "cell_type": "code",
   "execution_count": 7,
   "id": "5d7f9f13",
   "metadata": {},
   "outputs": [
    {
     "data": {
      "text/plain": [
       "(183, 275)"
      ]
     },
     "execution_count": 7,
     "metadata": {},
     "output_type": "execute_result"
    }
   ],
   "source": [
    "(h,w)=image.shape[:2]\n",
    "(h,w)"
   ]
  },
  {
   "cell_type": "code",
   "execution_count": 8,
   "id": "0fa4d881",
   "metadata": {},
   "outputs": [
    {
     "data": {
      "text/plain": [
       "array([[[[134., 147., 139., ..., 149., 148., 148.],\n",
       "         [139., 148., 143., ..., 149., 148., 148.],\n",
       "         [146., 149., 149., ..., 150., 148., 148.],\n",
       "         ...,\n",
       "         [151., 151., 151., ..., 142., 145., 145.],\n",
       "         [151., 151., 151., ..., 142., 144., 144.],\n",
       "         [151., 151., 151., ..., 142., 144., 144.]],\n",
       "\n",
       "        [[ 63.,  76.,  68., ...,  74.,  74.,  74.],\n",
       "         [ 68.,  77.,  72., ...,  74.,  74.,  74.],\n",
       "         [ 75.,  78.,  78., ...,  74.,  74.,  74.],\n",
       "         ...,\n",
       "         [ 71.,  70.,  75., ...,  73.,  72.,  72.],\n",
       "         [ 74.,  73.,  73., ...,  72.,  71.,  71.],\n",
       "         [ 76.,  76.,  72., ...,  72.,  71.,  71.]],\n",
       "\n",
       "        [[117., 130., 122., ..., 130., 132., 132.],\n",
       "         [122., 131., 126., ..., 130., 132., 132.],\n",
       "         [129., 132., 132., ..., 130., 132., 132.],\n",
       "         ...,\n",
       "         [126., 124., 129., ..., 126., 126., 126.],\n",
       "         [128., 128., 127., ..., 125., 125., 125.],\n",
       "         [129., 131., 126., ..., 124., 125., 125.]]]], dtype=float32)"
      ]
     },
     "execution_count": 8,
     "metadata": {},
     "output_type": "execute_result"
    }
   ],
   "source": [
    "blob=cv2.dnn.blobFromImage(image,1.0,(300,300),(104.0,177.0,123.0))\n",
    "blob"
   ]
  },
  {
   "cell_type": "code",
   "execution_count": 9,
   "id": "40594126",
   "metadata": {},
   "outputs": [],
   "source": [
    "net.setInput(blob)\n",
    "detections=net.forward()"
   ]
  },
  {
   "cell_type": "code",
   "execution_count": 10,
   "id": "46c6d8f6",
   "metadata": {},
   "outputs": [
    {
     "data": {
      "text/plain": [
       "array([[[[0.        , 1.        , 0.9982998 , ..., 0.19446346,\n",
       "          0.36154372, 0.74171877],\n",
       "         [0.        , 1.        , 0.9957416 , ..., 0.1940113 ,\n",
       "          0.8708693 , 0.78570616],\n",
       "         [0.        , 1.        , 0.11922034, ..., 0.31953982,\n",
       "          0.8691126 , 0.4846194 ],\n",
       "         ...,\n",
       "         [0.        , 0.        , 0.        , ..., 0.        ,\n",
       "          0.        , 0.        ],\n",
       "         [0.        , 0.        , 0.        , ..., 0.        ,\n",
       "          0.        , 0.        ],\n",
       "         [0.        , 0.        , 0.        , ..., 0.        ,\n",
       "          0.        , 0.        ]]]], dtype=float32)"
      ]
     },
     "execution_count": 10,
     "metadata": {},
     "output_type": "execute_result"
    }
   ],
   "source": [
    "detections"
   ]
  },
  {
   "cell_type": "code",
   "execution_count": 11,
   "id": "eeeaedf3",
   "metadata": {},
   "outputs": [],
   "source": [
    "for i in range(0,detections.shape[2]):\n",
    "    confidence=detections[0,0,i,2]\n",
    "    \n",
    "    \n",
    "    if confidence>0.5:\n",
    "        box=detections[0,0,i,3:7]*np.array([w,h,w,h])\n",
    "        (startX,startY,endX,endY)=box.astype('int')\n",
    "        (startX,startY)=(max(0,startX),max(0,startY))\n",
    "        (endX,endY)=(min(w-1,endX),min(h-1,endY))\n",
    "        \n",
    "        face=image[startY:endY , startX:endX]\n",
    "        face=cv2.cvtColor(face,cv2.COLOR_BGR2RGB)\n",
    "        face=cv2.resize(face,(224,224))\n",
    "        face=img_to_array(face)\n",
    "        face=preprocess_input(face)\n",
    "        face=np.expand_dims(face,axis=0)\n",
    "        \n",
    "        (mask,withoutMask)=model.predict(face)[0]\n",
    "        \n",
    "        label='Mask' if mask>withoutMask else 'No Mask'\n",
    "        color=(0,255,0) if label=='Mask' else(0,0,255)\n",
    "        \n",
    "        label=\"{}: {:.2f}%\".format(label,max(mask,withoutMask)*100)\n",
    "        \n",
    "        cv2.putText(image,label,(startX,startY-10),cv2.FONT_HERSHEY_SIMPLEX,0.45,color,2)\n",
    "        cv2.rectangle(image,(startX,startY),(endX,endY),color,2)\n",
    "cv2.imshow(\"OutPut\",image)\n",
    "cv2.waitKey(0)\n",
    "cv2.destroyAllWindows()\n",
    "        "
   ]
  },
  {
   "cell_type": "code",
   "execution_count": null,
   "id": "86cfd74b",
   "metadata": {},
   "outputs": [],
   "source": []
  }
 ],
 "metadata": {
  "kernelspec": {
   "display_name": "Python 3 (ipykernel)",
   "language": "python",
   "name": "python3"
  },
  "language_info": {
   "codemirror_mode": {
    "name": "ipython",
    "version": 3
   },
   "file_extension": ".py",
   "mimetype": "text/x-python",
   "name": "python",
   "nbconvert_exporter": "python",
   "pygments_lexer": "ipython3",
   "version": "3.9.7"
  }
 },
 "nbformat": 4,
 "nbformat_minor": 5
}
